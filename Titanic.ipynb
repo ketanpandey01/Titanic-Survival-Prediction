{
  "nbformat": 4,
  "nbformat_minor": 0,
  "metadata": {
    "colab": {
      "name": "Titanic",
      "version": "0.3.2",
      "provenance": [],
      "collapsed_sections": [],
      "include_colab_link": true
    },
    "kernelspec": {
      "name": "python3",
      "display_name": "Python 3"
    },
    "accelerator": "GPU"
  },
  "cells": [
    {
      "cell_type": "markdown",
      "metadata": {
        "id": "view-in-github",
        "colab_type": "text"
      },
      "source": [
        "<a href=\"https://colab.research.google.com/github/ketanpandey01/Titanic-Survival-Prediction/blob/master/Titanic.ipynb\" target=\"_parent\"><img src=\"https://colab.research.google.com/assets/colab-badge.svg\" alt=\"Open In Colab\"/></a>"
      ]
    },
    {
      "cell_type": "code",
      "metadata": {
        "id": "fftOjep-bir4",
        "colab_type": "code",
        "colab": {}
      },
      "source": [
        "# Data manipulation\n",
        "import numpy as np\n",
        "import pandas as pd\n",
        "\n",
        "# Data visualization\n",
        "import seaborn as sb\n",
        "import matplotlib.pyplot as plt\n",
        "\n",
        "# Regex\n",
        "import re as re\n",
        "\n",
        "# Model Selection and Evaluation\n",
        "from sklearn.model_selection import StratifiedShuffleSplit\n",
        "from sklearn.model_selection import cross_val_score\n",
        "\n",
        "# Performance\n",
        "from sklearn.metrics import accuracy_score\n",
        "from sklearn.metrics import f1_score\n",
        "\n",
        "# Machine Learning Algorithms\n",
        "from sklearn.neighbors import KNeighborsClassifier\n",
        "from sklearn.svm import SVC\n",
        "from sklearn.tree import DecisionTreeClassifier\n",
        "from sklearn.ensemble import RandomForestClassifier, AdaBoostClassifier, GradientBoostingClassifier\n",
        "from sklearn.naive_bayes import GaussianNB\n",
        "from sklearn.linear_model import LogisticRegression\n",
        "\n",
        "\n",
        "# Preprocessing\n",
        "from sklearn.preprocessing import OneHotEncoder\n",
        "from sklearn.impute import SimpleImputer\n",
        "from sklearn.pipeline import Pipeline\n",
        "from sklearn.compose import ColumnTransformer\n",
        "\n",
        "# Base classes\n",
        "from sklearn.base import BaseEstimator, TransformerMixin\n"
      ],
      "execution_count": 0,
      "outputs": []
    },
    {
      "cell_type": "markdown",
      "metadata": {
        "id": "SLddMV0S-Kva",
        "colab_type": "text"
      },
      "source": [
        "# Get the data"
      ]
    },
    {
      "cell_type": "code",
      "metadata": {
        "id": "8pnr5Vfna5kr",
        "colab_type": "code",
        "colab": {}
      },
      "source": [
        "from google.colab import drive\n",
        "drive.mount('/content/drive/')"
      ],
      "execution_count": 0,
      "outputs": []
    },
    {
      "cell_type": "code",
      "metadata": {
        "id": "HNxNLQN_bQqz",
        "colab_type": "code",
        "colab": {}
      },
      "source": [
        "titanic_trainSet = pd.read_csv('/content/drive/My Drive/train.csv')\n",
        "titanic_testSet = pd.read_csv('/content/drive/My Drive/test.csv')\n",
        "full_data = [titanic_trainSet, titanic_testSet]"
      ],
      "execution_count": 0,
      "outputs": []
    },
    {
      "cell_type": "markdown",
      "metadata": {
        "id": "VNGx-NV3b5pb",
        "colab_type": "text"
      },
      "source": [
        "\n",
        "# Explore and visualize the data to gain insights"
      ]
    },
    {
      "cell_type": "markdown",
      "metadata": {
        "id": "YE34ahaj75k5",
        "colab_type": "text"
      },
      "source": [
        "### There are 12 features available in the training set.\n",
        "### 'Survived' feature is our target variable, where 0 means the passenger did not survive, while 1 means he/she survived."
      ]
    },
    {
      "cell_type": "code",
      "metadata": {
        "id": "bbsUhs8obl29",
        "colab_type": "code",
        "outputId": "ff400bdd-c247-4b2e-ba92-bfb3d8fcfbfe",
        "colab": {
          "base_uri": "https://localhost:8080/",
          "height": 204
        }
      },
      "source": [
        "titanic_trainSet.head()"
      ],
      "execution_count": 4,
      "outputs": [
        {
          "output_type": "execute_result",
          "data": {
            "text/html": [
              "<div>\n",
              "<style scoped>\n",
              "    .dataframe tbody tr th:only-of-type {\n",
              "        vertical-align: middle;\n",
              "    }\n",
              "\n",
              "    .dataframe tbody tr th {\n",
              "        vertical-align: top;\n",
              "    }\n",
              "\n",
              "    .dataframe thead th {\n",
              "        text-align: right;\n",
              "    }\n",
              "</style>\n",
              "<table border=\"1\" class=\"dataframe\">\n",
              "  <thead>\n",
              "    <tr style=\"text-align: right;\">\n",
              "      <th></th>\n",
              "      <th>PassengerId</th>\n",
              "      <th>Survived</th>\n",
              "      <th>Pclass</th>\n",
              "      <th>Name</th>\n",
              "      <th>Sex</th>\n",
              "      <th>Age</th>\n",
              "      <th>SibSp</th>\n",
              "      <th>Parch</th>\n",
              "      <th>Ticket</th>\n",
              "      <th>Fare</th>\n",
              "      <th>Cabin</th>\n",
              "      <th>Embarked</th>\n",
              "    </tr>\n",
              "  </thead>\n",
              "  <tbody>\n",
              "    <tr>\n",
              "      <th>0</th>\n",
              "      <td>1</td>\n",
              "      <td>0</td>\n",
              "      <td>3</td>\n",
              "      <td>Braund, Mr. Owen Harris</td>\n",
              "      <td>male</td>\n",
              "      <td>22.0</td>\n",
              "      <td>1</td>\n",
              "      <td>0</td>\n",
              "      <td>A/5 21171</td>\n",
              "      <td>7.2500</td>\n",
              "      <td>NaN</td>\n",
              "      <td>S</td>\n",
              "    </tr>\n",
              "    <tr>\n",
              "      <th>1</th>\n",
              "      <td>2</td>\n",
              "      <td>1</td>\n",
              "      <td>1</td>\n",
              "      <td>Cumings, Mrs. John Bradley (Florence Briggs Th...</td>\n",
              "      <td>female</td>\n",
              "      <td>38.0</td>\n",
              "      <td>1</td>\n",
              "      <td>0</td>\n",
              "      <td>PC 17599</td>\n",
              "      <td>71.2833</td>\n",
              "      <td>C85</td>\n",
              "      <td>C</td>\n",
              "    </tr>\n",
              "    <tr>\n",
              "      <th>2</th>\n",
              "      <td>3</td>\n",
              "      <td>1</td>\n",
              "      <td>3</td>\n",
              "      <td>Heikkinen, Miss. Laina</td>\n",
              "      <td>female</td>\n",
              "      <td>26.0</td>\n",
              "      <td>0</td>\n",
              "      <td>0</td>\n",
              "      <td>STON/O2. 3101282</td>\n",
              "      <td>7.9250</td>\n",
              "      <td>NaN</td>\n",
              "      <td>S</td>\n",
              "    </tr>\n",
              "    <tr>\n",
              "      <th>3</th>\n",
              "      <td>4</td>\n",
              "      <td>1</td>\n",
              "      <td>1</td>\n",
              "      <td>Futrelle, Mrs. Jacques Heath (Lily May Peel)</td>\n",
              "      <td>female</td>\n",
              "      <td>35.0</td>\n",
              "      <td>1</td>\n",
              "      <td>0</td>\n",
              "      <td>113803</td>\n",
              "      <td>53.1000</td>\n",
              "      <td>C123</td>\n",
              "      <td>S</td>\n",
              "    </tr>\n",
              "    <tr>\n",
              "      <th>4</th>\n",
              "      <td>5</td>\n",
              "      <td>0</td>\n",
              "      <td>3</td>\n",
              "      <td>Allen, Mr. William Henry</td>\n",
              "      <td>male</td>\n",
              "      <td>35.0</td>\n",
              "      <td>0</td>\n",
              "      <td>0</td>\n",
              "      <td>373450</td>\n",
              "      <td>8.0500</td>\n",
              "      <td>NaN</td>\n",
              "      <td>S</td>\n",
              "    </tr>\n",
              "  </tbody>\n",
              "</table>\n",
              "</div>"
            ],
            "text/plain": [
              "   PassengerId  Survived  Pclass  ...     Fare Cabin  Embarked\n",
              "0            1         0       3  ...   7.2500   NaN         S\n",
              "1            2         1       1  ...  71.2833   C85         C\n",
              "2            3         1       3  ...   7.9250   NaN         S\n",
              "3            4         1       1  ...  53.1000  C123         S\n",
              "4            5         0       3  ...   8.0500   NaN         S\n",
              "\n",
              "[5 rows x 12 columns]"
            ]
          },
          "metadata": {
            "tags": []
          },
          "execution_count": 4
        }
      ]
    },
    {
      "cell_type": "markdown",
      "metadata": {
        "id": "n9k_yMNS79AX",
        "colab_type": "text"
      },
      "source": [
        "### Test set also has the same set of features but with no output label.\n",
        "### To know how well our model has performed, we need to submit our model predictions to the Titanic Kaggle Competition and wait for the result. But we can use cross-validation to have an idea of how good our model is."
      ]
    },
    {
      "cell_type": "code",
      "metadata": {
        "id": "3gctpTeacI-M",
        "colab_type": "code",
        "outputId": "c45b66a5-6c71-4bb2-b65f-1d15e46553f3",
        "colab": {
          "base_uri": "https://localhost:8080/",
          "height": 204
        }
      },
      "source": [
        "titanic_testSet.head()"
      ],
      "execution_count": 5,
      "outputs": [
        {
          "output_type": "execute_result",
          "data": {
            "text/html": [
              "<div>\n",
              "<style scoped>\n",
              "    .dataframe tbody tr th:only-of-type {\n",
              "        vertical-align: middle;\n",
              "    }\n",
              "\n",
              "    .dataframe tbody tr th {\n",
              "        vertical-align: top;\n",
              "    }\n",
              "\n",
              "    .dataframe thead th {\n",
              "        text-align: right;\n",
              "    }\n",
              "</style>\n",
              "<table border=\"1\" class=\"dataframe\">\n",
              "  <thead>\n",
              "    <tr style=\"text-align: right;\">\n",
              "      <th></th>\n",
              "      <th>PassengerId</th>\n",
              "      <th>Pclass</th>\n",
              "      <th>Name</th>\n",
              "      <th>Sex</th>\n",
              "      <th>Age</th>\n",
              "      <th>SibSp</th>\n",
              "      <th>Parch</th>\n",
              "      <th>Ticket</th>\n",
              "      <th>Fare</th>\n",
              "      <th>Cabin</th>\n",
              "      <th>Embarked</th>\n",
              "    </tr>\n",
              "  </thead>\n",
              "  <tbody>\n",
              "    <tr>\n",
              "      <th>0</th>\n",
              "      <td>892</td>\n",
              "      <td>3</td>\n",
              "      <td>Kelly, Mr. James</td>\n",
              "      <td>male</td>\n",
              "      <td>34.5</td>\n",
              "      <td>0</td>\n",
              "      <td>0</td>\n",
              "      <td>330911</td>\n",
              "      <td>7.8292</td>\n",
              "      <td>NaN</td>\n",
              "      <td>Q</td>\n",
              "    </tr>\n",
              "    <tr>\n",
              "      <th>1</th>\n",
              "      <td>893</td>\n",
              "      <td>3</td>\n",
              "      <td>Wilkes, Mrs. James (Ellen Needs)</td>\n",
              "      <td>female</td>\n",
              "      <td>47.0</td>\n",
              "      <td>1</td>\n",
              "      <td>0</td>\n",
              "      <td>363272</td>\n",
              "      <td>7.0000</td>\n",
              "      <td>NaN</td>\n",
              "      <td>S</td>\n",
              "    </tr>\n",
              "    <tr>\n",
              "      <th>2</th>\n",
              "      <td>894</td>\n",
              "      <td>2</td>\n",
              "      <td>Myles, Mr. Thomas Francis</td>\n",
              "      <td>male</td>\n",
              "      <td>62.0</td>\n",
              "      <td>0</td>\n",
              "      <td>0</td>\n",
              "      <td>240276</td>\n",
              "      <td>9.6875</td>\n",
              "      <td>NaN</td>\n",
              "      <td>Q</td>\n",
              "    </tr>\n",
              "    <tr>\n",
              "      <th>3</th>\n",
              "      <td>895</td>\n",
              "      <td>3</td>\n",
              "      <td>Wirz, Mr. Albert</td>\n",
              "      <td>male</td>\n",
              "      <td>27.0</td>\n",
              "      <td>0</td>\n",
              "      <td>0</td>\n",
              "      <td>315154</td>\n",
              "      <td>8.6625</td>\n",
              "      <td>NaN</td>\n",
              "      <td>S</td>\n",
              "    </tr>\n",
              "    <tr>\n",
              "      <th>4</th>\n",
              "      <td>896</td>\n",
              "      <td>3</td>\n",
              "      <td>Hirvonen, Mrs. Alexander (Helga E Lindqvist)</td>\n",
              "      <td>female</td>\n",
              "      <td>22.0</td>\n",
              "      <td>1</td>\n",
              "      <td>1</td>\n",
              "      <td>3101298</td>\n",
              "      <td>12.2875</td>\n",
              "      <td>NaN</td>\n",
              "      <td>S</td>\n",
              "    </tr>\n",
              "  </tbody>\n",
              "</table>\n",
              "</div>"
            ],
            "text/plain": [
              "   PassengerId  Pclass  ... Cabin Embarked\n",
              "0          892       3  ...   NaN        Q\n",
              "1          893       3  ...   NaN        S\n",
              "2          894       2  ...   NaN        Q\n",
              "3          895       3  ...   NaN        S\n",
              "4          896       3  ...   NaN        S\n",
              "\n",
              "[5 rows x 11 columns]"
            ]
          },
          "metadata": {
            "tags": []
          },
          "execution_count": 5
        }
      ]
    },
    {
      "cell_type": "code",
      "metadata": {
        "id": "M_KelI4YbIf0",
        "colab_type": "code",
        "outputId": "0a260630-79c3-4357-cf4d-a1b5cff34384",
        "colab": {
          "base_uri": "https://localhost:8080/",
          "height": 595
        }
      },
      "source": [
        "titanic_trainSet.info()\n",
        "print('-'*40)\n",
        "titanic_testSet.info()"
      ],
      "execution_count": 6,
      "outputs": [
        {
          "output_type": "stream",
          "text": [
            "<class 'pandas.core.frame.DataFrame'>\n",
            "RangeIndex: 891 entries, 0 to 890\n",
            "Data columns (total 12 columns):\n",
            "PassengerId    891 non-null int64\n",
            "Survived       891 non-null int64\n",
            "Pclass         891 non-null int64\n",
            "Name           891 non-null object\n",
            "Sex            891 non-null object\n",
            "Age            714 non-null float64\n",
            "SibSp          891 non-null int64\n",
            "Parch          891 non-null int64\n",
            "Ticket         891 non-null object\n",
            "Fare           891 non-null float64\n",
            "Cabin          204 non-null object\n",
            "Embarked       889 non-null object\n",
            "dtypes: float64(2), int64(5), object(5)\n",
            "memory usage: 83.6+ KB\n",
            "----------------------------------------\n",
            "<class 'pandas.core.frame.DataFrame'>\n",
            "RangeIndex: 418 entries, 0 to 417\n",
            "Data columns (total 11 columns):\n",
            "PassengerId    418 non-null int64\n",
            "Pclass         418 non-null int64\n",
            "Name           418 non-null object\n",
            "Sex            418 non-null object\n",
            "Age            332 non-null float64\n",
            "SibSp          418 non-null int64\n",
            "Parch          418 non-null int64\n",
            "Ticket         418 non-null object\n",
            "Fare           417 non-null float64\n",
            "Cabin          91 non-null object\n",
            "Embarked       418 non-null object\n",
            "dtypes: float64(2), int64(4), object(5)\n",
            "memory usage: 36.0+ KB\n"
          ],
          "name": "stdout"
        }
      ]
    },
    {
      "cell_type": "code",
      "metadata": {
        "id": "RyJkFVltfkaW",
        "colab_type": "code",
        "outputId": "9fad4857-fdd4-4d8f-8ec3-5ccfe4645174",
        "colab": {
          "base_uri": "https://localhost:8080/",
          "height": 297
        }
      },
      "source": [
        "titanic_trainSet.describe()"
      ],
      "execution_count": 7,
      "outputs": [
        {
          "output_type": "execute_result",
          "data": {
            "text/html": [
              "<div>\n",
              "<style scoped>\n",
              "    .dataframe tbody tr th:only-of-type {\n",
              "        vertical-align: middle;\n",
              "    }\n",
              "\n",
              "    .dataframe tbody tr th {\n",
              "        vertical-align: top;\n",
              "    }\n",
              "\n",
              "    .dataframe thead th {\n",
              "        text-align: right;\n",
              "    }\n",
              "</style>\n",
              "<table border=\"1\" class=\"dataframe\">\n",
              "  <thead>\n",
              "    <tr style=\"text-align: right;\">\n",
              "      <th></th>\n",
              "      <th>PassengerId</th>\n",
              "      <th>Survived</th>\n",
              "      <th>Pclass</th>\n",
              "      <th>Age</th>\n",
              "      <th>SibSp</th>\n",
              "      <th>Parch</th>\n",
              "      <th>Fare</th>\n",
              "    </tr>\n",
              "  </thead>\n",
              "  <tbody>\n",
              "    <tr>\n",
              "      <th>count</th>\n",
              "      <td>891.000000</td>\n",
              "      <td>891.000000</td>\n",
              "      <td>891.000000</td>\n",
              "      <td>714.000000</td>\n",
              "      <td>891.000000</td>\n",
              "      <td>891.000000</td>\n",
              "      <td>891.000000</td>\n",
              "    </tr>\n",
              "    <tr>\n",
              "      <th>mean</th>\n",
              "      <td>446.000000</td>\n",
              "      <td>0.383838</td>\n",
              "      <td>2.308642</td>\n",
              "      <td>29.699118</td>\n",
              "      <td>0.523008</td>\n",
              "      <td>0.381594</td>\n",
              "      <td>32.204208</td>\n",
              "    </tr>\n",
              "    <tr>\n",
              "      <th>std</th>\n",
              "      <td>257.353842</td>\n",
              "      <td>0.486592</td>\n",
              "      <td>0.836071</td>\n",
              "      <td>14.526497</td>\n",
              "      <td>1.102743</td>\n",
              "      <td>0.806057</td>\n",
              "      <td>49.693429</td>\n",
              "    </tr>\n",
              "    <tr>\n",
              "      <th>min</th>\n",
              "      <td>1.000000</td>\n",
              "      <td>0.000000</td>\n",
              "      <td>1.000000</td>\n",
              "      <td>0.420000</td>\n",
              "      <td>0.000000</td>\n",
              "      <td>0.000000</td>\n",
              "      <td>0.000000</td>\n",
              "    </tr>\n",
              "    <tr>\n",
              "      <th>25%</th>\n",
              "      <td>223.500000</td>\n",
              "      <td>0.000000</td>\n",
              "      <td>2.000000</td>\n",
              "      <td>20.125000</td>\n",
              "      <td>0.000000</td>\n",
              "      <td>0.000000</td>\n",
              "      <td>7.910400</td>\n",
              "    </tr>\n",
              "    <tr>\n",
              "      <th>50%</th>\n",
              "      <td>446.000000</td>\n",
              "      <td>0.000000</td>\n",
              "      <td>3.000000</td>\n",
              "      <td>28.000000</td>\n",
              "      <td>0.000000</td>\n",
              "      <td>0.000000</td>\n",
              "      <td>14.454200</td>\n",
              "    </tr>\n",
              "    <tr>\n",
              "      <th>75%</th>\n",
              "      <td>668.500000</td>\n",
              "      <td>1.000000</td>\n",
              "      <td>3.000000</td>\n",
              "      <td>38.000000</td>\n",
              "      <td>1.000000</td>\n",
              "      <td>0.000000</td>\n",
              "      <td>31.000000</td>\n",
              "    </tr>\n",
              "    <tr>\n",
              "      <th>max</th>\n",
              "      <td>891.000000</td>\n",
              "      <td>1.000000</td>\n",
              "      <td>3.000000</td>\n",
              "      <td>80.000000</td>\n",
              "      <td>8.000000</td>\n",
              "      <td>6.000000</td>\n",
              "      <td>512.329200</td>\n",
              "    </tr>\n",
              "  </tbody>\n",
              "</table>\n",
              "</div>"
            ],
            "text/plain": [
              "       PassengerId    Survived      Pclass  ...       SibSp       Parch        Fare\n",
              "count   891.000000  891.000000  891.000000  ...  891.000000  891.000000  891.000000\n",
              "mean    446.000000    0.383838    2.308642  ...    0.523008    0.381594   32.204208\n",
              "std     257.353842    0.486592    0.836071  ...    1.102743    0.806057   49.693429\n",
              "min       1.000000    0.000000    1.000000  ...    0.000000    0.000000    0.000000\n",
              "25%     223.500000    0.000000    2.000000  ...    0.000000    0.000000    7.910400\n",
              "50%     446.000000    0.000000    3.000000  ...    0.000000    0.000000   14.454200\n",
              "75%     668.500000    1.000000    3.000000  ...    1.000000    0.000000   31.000000\n",
              "max     891.000000    1.000000    3.000000  ...    8.000000    6.000000  512.329200\n",
              "\n",
              "[8 rows x 7 columns]"
            ]
          },
          "metadata": {
            "tags": []
          },
          "execution_count": 7
        }
      ]
    },
    {
      "cell_type": "markdown",
      "metadata": {
        "id": "IJ_IKTVeCVmr",
        "colab_type": "text"
      },
      "source": [
        "## Analysing the features.\n",
        "### There are 3 categorical input features in our dataset(Pclass, Sex, Embarked) and 1 categorical label (Survived), hence classification task. \n",
        "### Lets analyze them first."
      ]
    },
    {
      "cell_type": "markdown",
      "metadata": {
        "id": "GRcGeXRSGgeK",
        "colab_type": "text"
      },
      "source": [
        "### Survived"
      ]
    },
    {
      "cell_type": "code",
      "metadata": {
        "id": "zyKFsSClisWr",
        "colab_type": "code",
        "outputId": "43ea1054-8666-49c5-dc03-8e768358716a",
        "colab": {
          "base_uri": "https://localhost:8080/",
          "height": 478
        }
      },
      "source": [
        "print(titanic_trainSet[\"Survived\"].value_counts(sort=False))\n",
        "print('-'*50)\n",
        "plt.figure(figsize=(10, 6))\n",
        "sb.set(style=\"whitegrid\")\n",
        "sb.countplot( x= 'Survived', hue='Sex', data=titanic_trainSet)\n",
        "plt.title('Survival Distribution')\n",
        "plt.show()"
      ],
      "execution_count": 8,
      "outputs": [
        {
          "output_type": "stream",
          "text": [
            "0    549\n",
            "1    342\n",
            "Name: Survived, dtype: int64\n",
            "--------------------------------------------------\n"
          ],
          "name": "stdout"
        },
        {
          "output_type": "display_data",
          "data": {
            "image/png": "[encoded data removed]",
            "text/plain": [
              "<Figure size 720x432 with 1 Axes>"
            ]
          },
          "metadata": {
            "tags": []
          }
        }
      ]
    },
    {
      "cell_type": "markdown",
      "metadata": {
        "id": "_Y8UNfRGH16m",
        "colab_type": "text"
      },
      "source": [
        "### Passenger Class"
      ]
    },
    {
      "cell_type": "code",
      "metadata": {
        "id": "XL5MrbJhkDmj",
        "colab_type": "code",
        "outputId": "8a5aeab7-ad2c-420d-9690-5620a9916fe8",
        "colab": {
          "base_uri": "https://localhost:8080/",
          "height": 119
        }
      },
      "source": [
        "print(\"Passengers in each class\\n\")\n",
        "titanic_trainSet[\"Pclass\"].value_counts(sort=False)"
      ],
      "execution_count": 9,
      "outputs": [
        {
          "output_type": "stream",
          "text": [
            "Passengers in each class\n",
            "\n"
          ],
          "name": "stdout"
        },
        {
          "output_type": "execute_result",
          "data": {
            "text/plain": [
              "1    216\n",
              "2    184\n",
              "3    491\n",
              "Name: Pclass, dtype: int64"
            ]
          },
          "metadata": {
            "tags": []
          },
          "execution_count": 9
        }
      ]
    },
    {
      "cell_type": "code",
      "metadata": {
        "id": "tDYbnTAUL45p",
        "colab_type": "code",
        "outputId": "2f742e4a-d915-44f9-d738-bd44c2a8476e",
        "colab": {
          "base_uri": "https://localhost:8080/",
          "height": 478
        }
      },
      "source": [
        "print(titanic_trainSet[['Pclass', 'Survived']].groupby(['Pclass'], as_index=False).mean())\n",
        "plt.figure(figsize=(10, 6))\n",
        "sb.countplot( x= 'Pclass', hue='Survived',data=titanic_trainSet)\n",
        "plt.title('Survival rate of each class')\n",
        "plt.show()"
      ],
      "execution_count": 10,
      "outputs": [
        {
          "output_type": "stream",
          "text": [
            "   Pclass  Survived\n",
            "0       1  0.629630\n",
            "1       2  0.472826\n",
            "2       3  0.242363\n"
          ],
          "name": "stdout"
        },
        {
          "output_type": "display_data",
          "data": {
            "image/png": "[encoded data removed]",
            "text/plain": [
              "<Figure size 720x432 with 1 Axes>"
            ]
          },
          "metadata": {
            "tags": []
          }
        }
      ]
    },
    {
      "cell_type": "markdown",
      "metadata": {
        "id": "lAOabPZNH6KL",
        "colab_type": "text"
      },
      "source": [
        "### Gender"
      ]
    },
    {
      "cell_type": "code",
      "metadata": {
        "id": "stknCnDyOj4p",
        "colab_type": "code",
        "outputId": "e63e1330-f689-4de0-824b-f55a0e768f53",
        "colab": {
          "base_uri": "https://localhost:8080/",
          "height": 102
        }
      },
      "source": [
        "print('Gender distribution\\n')\n",
        "print(titanic_trainSet[\"Sex\"].value_counts(sort=False))"
      ],
      "execution_count": 11,
      "outputs": [
        {
          "output_type": "stream",
          "text": [
            "Gender distribution\n",
            "\n",
            "male      577\n",
            "female    314\n",
            "Name: Sex, dtype: int64\n"
          ],
          "name": "stdout"
        }
      ]
    },
    {
      "cell_type": "code",
      "metadata": {
        "id": "NnAoAPK-N02i",
        "colab_type": "code",
        "outputId": "a66249c8-b3a8-48cd-e292-ed8306b50530",
        "colab": {
          "base_uri": "https://localhost:8080/",
          "height": 461
        }
      },
      "source": [
        "print(titanic_trainSet[['Sex', 'Survived']].groupby(['Sex'], as_index=False).mean())\n",
        "plt.figure(figsize=(10, 6))\n",
        "sb.countplot( x= 'Sex', hue='Survived',data=titanic_trainSet)\n",
        "plt.title('Survival rate of each Gender')\n",
        "plt.show()"
      ],
      "execution_count": 12,
      "outputs": [
        {
          "output_type": "stream",
          "text": [
            "      Sex  Survived\n",
            "0  female  0.742038\n",
            "1    male  0.188908\n"
          ],
          "name": "stdout"
        },
        {
          "output_type": "display_data",
          "data": {
            "image/png": "[encoded data removed]",
            "text/plain": [
              "<Figure size 720x432 with 1 Axes>"
            ]
          },
          "metadata": {
            "tags": []
          }
        }
      ]
    },
    {
      "cell_type": "markdown",
      "metadata": {
        "id": "CD4X6H8mP2Os",
        "colab_type": "text"
      },
      "source": [
        "### Embarked\n",
        "### This attribute tells us where the passenger board the Titanic: C=Cherbourg, Q=Queenstown, S=Southampton."
      ]
    },
    {
      "cell_type": "code",
      "metadata": {
        "id": "Pw3mvlWEQIBo",
        "colab_type": "code",
        "outputId": "71ae954e-5aab-4073-8680-dcdeadcd377c",
        "colab": {
          "base_uri": "https://localhost:8080/",
          "height": 119
        }
      },
      "source": [
        "print('Embarked distribution\\n')\n",
        "print(titanic_trainSet[\"Embarked\"].value_counts(sort=False))"
      ],
      "execution_count": 13,
      "outputs": [
        {
          "output_type": "stream",
          "text": [
            "Embarked distribution\n",
            "\n",
            "Q     77\n",
            "C    168\n",
            "S    644\n",
            "Name: Embarked, dtype: int64\n"
          ],
          "name": "stdout"
        }
      ]
    },
    {
      "cell_type": "code",
      "metadata": {
        "id": "eoTnWFdjisiS",
        "colab_type": "code",
        "outputId": "7f65eb4e-cd55-4b8c-978d-17cd53c5213f",
        "colab": {
          "base_uri": "https://localhost:8080/",
          "height": 478
        }
      },
      "source": [
        "print(titanic_trainSet[['Embarked', 'Survived']].groupby(['Embarked'], as_index=False).mean())\n",
        "plt.figure(figsize=(10, 6))\n",
        "sb.countplot( x= 'Embarked', hue='Survived', data=titanic_trainSet)\n",
        "plt.title('Survival rate based on boarding point')\n",
        "plt.show()"
      ],
      "execution_count": 14,
      "outputs": [
        {
          "output_type": "stream",
          "text": [
            "  Embarked  Survived\n",
            "0        C  0.553571\n",
            "1        Q  0.389610\n",
            "2        S  0.336957\n"
          ],
          "name": "stdout"
        },
        {
          "output_type": "display_data",
          "data": {
            "image/png": "[encoded data removed]",
            "text/plain": [
              "<Figure size 720x432 with 1 Axes>"
            ]
          },
          "metadata": {
            "tags": []
          }
        }
      ]
    },
    {
      "cell_type": "code",
      "metadata": {
        "id": "D0WvARQgG_jr",
        "colab_type": "code",
        "colab": {}
      },
      "source": [
        ""
      ],
      "execution_count": 0,
      "outputs": []
    },
    {
      "cell_type": "markdown",
      "metadata": {
        "id": "db-B_-ZbMyvA",
        "colab_type": "text"
      },
      "source": [
        "# Feature Engineering"
      ]
    },
    {
      "cell_type": "markdown",
      "metadata": {
        "id": "cU80GjMXDRxt",
        "colab_type": "text"
      },
      "source": [
        "### Relatives Onboard\n",
        "#### 'SibSp': tells how many siblings & spouses of the passenger aboard the Titanic.\n",
        "#### 'Parch': tells how many children & parents of the passenger aboard the Titanic.\n",
        "#### In whole, these two features are telling about the no. of relatives of a passenger aboard the ship. So we can add these two feature and make one i.e. 'RelativesOnboard'"
      ]
    },
    {
      "cell_type": "code",
      "metadata": {
        "id": "MtgbMFyCDGye",
        "colab_type": "code",
        "colab": {}
      },
      "source": [
        "for dataset in full_data:\n",
        "    dataset['RelativesOnboard'] = dataset['SibSp'] + dataset['Parch']"
      ],
      "execution_count": 0,
      "outputs": []
    },
    {
      "cell_type": "code",
      "metadata": {
        "id": "HnNjlKtcIe95",
        "colab_type": "code",
        "outputId": "f8c7f705-dd14-4a61-adae-9357508efa3d",
        "colab": {
          "base_uri": "https://localhost:8080/",
          "height": 221
        }
      },
      "source": [
        "print('Relatives distribution\\n')\n",
        "print(titanic_trainSet[\"RelativesOnboard\"].value_counts(sort=False))"
      ],
      "execution_count": 16,
      "outputs": [
        {
          "output_type": "stream",
          "text": [
            "Relatives distribution\n",
            "\n",
            "0     537\n",
            "1     161\n",
            "2     102\n",
            "3      29\n",
            "4      15\n",
            "5      22\n",
            "6      12\n",
            "7       6\n",
            "10      7\n",
            "Name: RelativesOnboard, dtype: int64\n"
          ],
          "name": "stdout"
        }
      ]
    },
    {
      "cell_type": "code",
      "metadata": {
        "id": "M9qFLZiPJC-M",
        "colab_type": "code",
        "outputId": "451c68d5-500e-45d8-a4e0-bb8722f4fbba",
        "colab": {
          "base_uri": "https://localhost:8080/",
          "height": 580
        }
      },
      "source": [
        "print(titanic_trainSet[['RelativesOnboard', 'Survived']].groupby(['RelativesOnboard'], as_index=False).mean())\n",
        "plt.figure(figsize=(10, 6))\n",
        "sb.countplot( x= 'RelativesOnboard', hue='Survived', data=titanic_trainSet)\n",
        "plt.title('Survival rate based on no. of relatives')\n",
        "plt.show()"
      ],
      "execution_count": 17,
      "outputs": [
        {
          "output_type": "stream",
          "text": [
            "   RelativesOnboard  Survived\n",
            "0                 0  0.303538\n",
            "1                 1  0.552795\n",
            "2                 2  0.578431\n",
            "3                 3  0.724138\n",
            "4                 4  0.200000\n",
            "5                 5  0.136364\n",
            "6                 6  0.333333\n",
            "7                 7  0.000000\n",
            "8                10  0.000000\n"
          ],
          "name": "stdout"
        },
        {
          "output_type": "display_data",
          "data": {
            "image/png": "[encoded data removed]",
            "text/plain": [
              "<Figure size 720x432 with 1 Axes>"
            ]
          },
          "metadata": {
            "tags": []
          }
        }
      ]
    },
    {
      "cell_type": "markdown",
      "metadata": {
        "id": "gt5HuDTAWg4k",
        "colab_type": "text"
      },
      "source": [
        "### Age\n",
        "#### 'Age' is a continuous attribute. But we can convert it into a categorical feature based on different age groups. And then we can find out the survival rate of each age group."
      ]
    },
    {
      "cell_type": "code",
      "metadata": {
        "id": "M3LZWKvdZ_I0",
        "colab_type": "code",
        "colab": {}
      },
      "source": [
        "for dataset in full_data:\n",
        "    dataset['AgeGroup'] = dataset['Age'] // 15 * 15"
      ],
      "execution_count": 0,
      "outputs": []
    },
    {
      "cell_type": "code",
      "metadata": {
        "id": "-xxYvHV_Cpcd",
        "colab_type": "code",
        "outputId": "88468d8e-7e07-4f5c-c6ea-4eac5d9da6d5",
        "colab": {
          "base_uri": "https://localhost:8080/",
          "height": 272
        }
      },
      "source": [
        "titanic_trainSet.isna().sum()"
      ],
      "execution_count": 19,
      "outputs": [
        {
          "output_type": "execute_result",
          "data": {
            "text/plain": [
              "PassengerId           0\n",
              "Survived              0\n",
              "Pclass                0\n",
              "Name                  0\n",
              "Sex                   0\n",
              "Age                 177\n",
              "SibSp                 0\n",
              "Parch                 0\n",
              "Ticket                0\n",
              "Fare                  0\n",
              "Cabin               687\n",
              "Embarked              2\n",
              "RelativesOnboard      0\n",
              "AgeGroup            177\n",
              "dtype: int64"
            ]
          },
          "metadata": {
            "tags": []
          },
          "execution_count": 19
        }
      ]
    },
    {
      "cell_type": "code",
      "metadata": {
        "id": "PMZSU2yAa4f8",
        "colab_type": "code",
        "colab": {}
      },
      "source": [
        "titanic_copy = titanic_trainSet.copy()"
      ],
      "execution_count": 0,
      "outputs": []
    },
    {
      "cell_type": "code",
      "metadata": {
        "id": "MqFLG4szOmHi",
        "colab_type": "code",
        "colab": {}
      },
      "source": [
        "median = titanic_copy['AgeGroup'].median()\n",
        "titanic_copy['AgeGroup'] = titanic_copy['AgeGroup'].fillna(median)"
      ],
      "execution_count": 0,
      "outputs": []
    },
    {
      "cell_type": "code",
      "metadata": {
        "id": "lCATbzXPaznp",
        "colab_type": "code",
        "outputId": "dc2807e1-4e58-450c-8eca-4ec0fcd5dd74",
        "colab": {
          "base_uri": "https://localhost:8080/",
          "height": 170
        }
      },
      "source": [
        "print('Age distribution\\n')\n",
        "print(titanic_copy[\"AgeGroup\"].value_counts(sort=False))"
      ],
      "execution_count": 22,
      "outputs": [
        {
          "output_type": "stream",
          "text": [
            "Age distribution\n",
            "\n",
            "15.0    483\n",
            "30.0    215\n",
            "45.0     89\n",
            "0.0      78\n",
            "60.0     25\n",
            "75.0      1\n",
            "Name: AgeGroup, dtype: int64\n"
          ],
          "name": "stdout"
        }
      ]
    },
    {
      "cell_type": "code",
      "metadata": {
        "id": "3EoExTa1afDA",
        "colab_type": "code",
        "outputId": "68a4d8f0-23db-457f-be1e-3e556c20e6f3",
        "colab": {
          "base_uri": "https://localhost:8080/",
          "height": 529
        }
      },
      "source": [
        "print(titanic_copy[['AgeGroup', 'Survived']].groupby(['AgeGroup'], as_index=False).mean())\n",
        "plt.figure(figsize=(10, 6))\n",
        "sb.countplot( x= 'AgeGroup', hue='Survived', data=titanic_copy)\n",
        "plt.title('Survival rate based on Age')\n",
        "plt.show()"
      ],
      "execution_count": 23,
      "outputs": [
        {
          "output_type": "stream",
          "text": [
            "   AgeGroup  Survived\n",
            "0       0.0  0.576923\n",
            "1      15.0  0.337474\n",
            "2      30.0  0.423256\n",
            "3      45.0  0.404494\n",
            "4      60.0  0.240000\n",
            "5      75.0  1.000000\n"
          ],
          "name": "stdout"
        },
        {
          "output_type": "display_data",
          "data": {
            "image/png": "[encoded data removed]",
            "text/plain": [
              "<Figure size 720x432 with 1 Axes>"
            ]
          },
          "metadata": {
            "tags": []
          }
        }
      ]
    },
    {
      "cell_type": "markdown",
      "metadata": {
        "id": "z_ng2jGZfyLl",
        "colab_type": "text"
      },
      "source": [
        "### Name\n",
        "#### We can use name attribute to parse out the 'Title' for each person and then use it as a categorical features."
      ]
    },
    {
      "cell_type": "code",
      "metadata": {
        "id": "rxbx5mHrXkAE",
        "colab_type": "code",
        "outputId": "efafb4c7-8cbd-440a-fcff-ec82a420f714",
        "colab": {
          "base_uri": "https://localhost:8080/",
          "height": 119
        }
      },
      "source": [
        "titanic_trainSet['Name'].head()"
      ],
      "execution_count": 24,
      "outputs": [
        {
          "output_type": "execute_result",
          "data": {
            "text/plain": [
              "0                              Braund, Mr. Owen Harris\n",
              "1    Cumings, Mrs. John Bradley (Florence Briggs Th...\n",
              "2                               Heikkinen, Miss. Laina\n",
              "3         Futrelle, Mrs. Jacques Heath (Lily May Peel)\n",
              "4                             Allen, Mr. William Henry\n",
              "Name: Name, dtype: object"
            ]
          },
          "metadata": {
            "tags": []
          },
          "execution_count": 24
        }
      ]
    },
    {
      "cell_type": "code",
      "metadata": {
        "id": "ID6ttiWDgSbI",
        "colab_type": "code",
        "colab": {}
      },
      "source": [
        "def parseTitle(name):\n",
        "\ttitle_search = re.search(' ([A-Za-z]+)\\.', name)\n",
        "  \n",
        "\t# If the title exists, extract and return it.\n",
        "\tif title_search:\n",
        "\t\treturn title_search.group(1)\n",
        "\treturn \"\"\n",
        "\n",
        "for dataset in full_data:\n",
        "  dataset['Title'] = dataset['Name'].apply(parseTitle)\n"
      ],
      "execution_count": 0,
      "outputs": []
    },
    {
      "cell_type": "code",
      "metadata": {
        "id": "kyJJFeU7wJ_Z",
        "colab_type": "code",
        "outputId": "54b8920c-ae36-4d8c-aab3-a256ce30bc6c",
        "colab": {
          "base_uri": "https://localhost:8080/",
          "height": 357
        }
      },
      "source": [
        "print('Title distribution\\n')\n",
        "print(titanic_trainSet[\"Title\"].value_counts(sort=False))"
      ],
      "execution_count": 26,
      "outputs": [
        {
          "output_type": "stream",
          "text": [
            "Title distribution\n",
            "\n",
            "Mrs         125\n",
            "Ms            1\n",
            "Mme           1\n",
            "Lady          1\n",
            "Major         2\n",
            "Capt          1\n",
            "Don           1\n",
            "Dr            7\n",
            "Countess      1\n",
            "Miss        182\n",
            "Rev           6\n",
            "Master       40\n",
            "Sir           1\n",
            "Mr          517\n",
            "Mlle          2\n",
            "Col           2\n",
            "Jonkheer      1\n",
            "Name: Title, dtype: int64\n"
          ],
          "name": "stdout"
        }
      ]
    },
    {
      "cell_type": "code",
      "metadata": {
        "id": "rNCUbtn-xpvJ",
        "colab_type": "code",
        "colab": {}
      },
      "source": [
        "for dataset in full_data:\n",
        "    dataset['Title'] = dataset['Title'].replace(['Lady', 'Countess','Capt', 'Col',\\\n",
        " \t'Don', 'Dr', 'Major', 'Rev', 'Sir', 'Jonkheer', 'Dona'], 'Rare')\n",
        "\n",
        "    dataset['Title'] = dataset['Title'].replace('Mlle', 'Miss')\n",
        "    dataset['Title'] = dataset['Title'].replace('Ms', 'Miss')\n",
        "    dataset['Title'] = dataset['Title'].replace('Mme', 'Mrs')\n"
      ],
      "execution_count": 0,
      "outputs": []
    },
    {
      "cell_type": "code",
      "metadata": {
        "id": "jxXdz8ESyEh2",
        "colab_type": "code",
        "outputId": "999f8281-a492-4744-ad83-34c694700a65",
        "colab": {
          "base_uri": "https://localhost:8080/",
          "height": 153
        }
      },
      "source": [
        "print('Title distribution\\n')\n",
        "print(titanic_trainSet[\"Title\"].value_counts(sort=True))"
      ],
      "execution_count": 28,
      "outputs": [
        {
          "output_type": "stream",
          "text": [
            "Title distribution\n",
            "\n",
            "Mr        517\n",
            "Miss      185\n",
            "Mrs       126\n",
            "Master     40\n",
            "Rare       23\n",
            "Name: Title, dtype: int64\n"
          ],
          "name": "stdout"
        }
      ]
    },
    {
      "cell_type": "code",
      "metadata": {
        "id": "kX_RE91LyUwg",
        "colab_type": "code",
        "outputId": "214e55b8-35c9-4ef6-d13a-cace1505b037",
        "colab": {
          "base_uri": "https://localhost:8080/",
          "height": 512
        }
      },
      "source": [
        "print(titanic_trainSet[['Title', 'Survived']].groupby(['Title'], as_index=False).mean())\n",
        "plt.figure(figsize=(10, 6))\n",
        "sb.countplot( x= 'Title', hue='Survived', data=titanic_trainSet)\n",
        "plt.title('Survival rate based on Title')\n",
        "plt.show()"
      ],
      "execution_count": 29,
      "outputs": [
        {
          "output_type": "stream",
          "text": [
            "    Title  Survived\n",
            "0  Master  0.575000\n",
            "1    Miss  0.702703\n",
            "2      Mr  0.156673\n",
            "3     Mrs  0.793651\n",
            "4    Rare  0.347826\n"
          ],
          "name": "stdout"
        },
        {
          "output_type": "display_data",
          "data": {
            "image/png": "[encoded data removed]",
            "text/plain": [
              "<Figure size 720x432 with 1 Axes>"
            ]
          },
          "metadata": {
            "tags": []
          }
        }
      ]
    },
    {
      "cell_type": "markdown",
      "metadata": {
        "id": "bT1X1j8Y5Q0K",
        "colab_type": "text"
      },
      "source": [
        "## Feature Selection\n",
        "### So, after analysing and processing the features, I have selected the final features for ML algorithms."
      ]
    },
    {
      "cell_type": "code",
      "metadata": {
        "id": "0O1_3QnjyI_y",
        "colab_type": "code",
        "outputId": "ad3c212c-cd44-43dc-cb58-3992ea8ad849",
        "colab": {
          "base_uri": "https://localhost:8080/",
          "height": 204
        }
      },
      "source": [
        "features_testSet = ['Pclass', 'Sex', 'Embarked', 'Fare', 'Title', 'AgeGroup', 'RelativesOnboard']\n",
        "features_trainSet = features_testSet + ['Survived']\n",
        "\n",
        "train_set = titanic_trainSet[[*features_trainSet]]\n",
        "test_set = titanic_testSet[[*features_testSet]]\n",
        "\n",
        "train_set.head()\n",
        "  "
      ],
      "execution_count": 30,
      "outputs": [
        {
          "output_type": "execute_result",
          "data": {
            "text/html": [
              "<div>\n",
              "<style scoped>\n",
              "    .dataframe tbody tr th:only-of-type {\n",
              "        vertical-align: middle;\n",
              "    }\n",
              "\n",
              "    .dataframe tbody tr th {\n",
              "        vertical-align: top;\n",
              "    }\n",
              "\n",
              "    .dataframe thead th {\n",
              "        text-align: right;\n",
              "    }\n",
              "</style>\n",
              "<table border=\"1\" class=\"dataframe\">\n",
              "  <thead>\n",
              "    <tr style=\"text-align: right;\">\n",
              "      <th></th>\n",
              "      <th>Pclass</th>\n",
              "      <th>Sex</th>\n",
              "      <th>Embarked</th>\n",
              "      <th>Fare</th>\n",
              "      <th>Title</th>\n",
              "      <th>AgeGroup</th>\n",
              "      <th>RelativesOnboard</th>\n",
              "      <th>Survived</th>\n",
              "    </tr>\n",
              "  </thead>\n",
              "  <tbody>\n",
              "    <tr>\n",
              "      <th>0</th>\n",
              "      <td>3</td>\n",
              "      <td>male</td>\n",
              "      <td>S</td>\n",
              "      <td>7.2500</td>\n",
              "      <td>Mr</td>\n",
              "      <td>15.0</td>\n",
              "      <td>1</td>\n",
              "      <td>0</td>\n",
              "    </tr>\n",
              "    <tr>\n",
              "      <th>1</th>\n",
              "      <td>1</td>\n",
              "      <td>female</td>\n",
              "      <td>C</td>\n",
              "      <td>71.2833</td>\n",
              "      <td>Mrs</td>\n",
              "      <td>30.0</td>\n",
              "      <td>1</td>\n",
              "      <td>1</td>\n",
              "    </tr>\n",
              "    <tr>\n",
              "      <th>2</th>\n",
              "      <td>3</td>\n",
              "      <td>female</td>\n",
              "      <td>S</td>\n",
              "      <td>7.9250</td>\n",
              "      <td>Miss</td>\n",
              "      <td>15.0</td>\n",
              "      <td>0</td>\n",
              "      <td>1</td>\n",
              "    </tr>\n",
              "    <tr>\n",
              "      <th>3</th>\n",
              "      <td>1</td>\n",
              "      <td>female</td>\n",
              "      <td>S</td>\n",
              "      <td>53.1000</td>\n",
              "      <td>Mrs</td>\n",
              "      <td>30.0</td>\n",
              "      <td>1</td>\n",
              "      <td>1</td>\n",
              "    </tr>\n",
              "    <tr>\n",
              "      <th>4</th>\n",
              "      <td>3</td>\n",
              "      <td>male</td>\n",
              "      <td>S</td>\n",
              "      <td>8.0500</td>\n",
              "      <td>Mr</td>\n",
              "      <td>30.0</td>\n",
              "      <td>0</td>\n",
              "      <td>0</td>\n",
              "    </tr>\n",
              "  </tbody>\n",
              "</table>\n",
              "</div>"
            ],
            "text/plain": [
              "   Pclass     Sex Embarked     Fare Title  AgeGroup  RelativesOnboard  Survived\n",
              "0       3    male        S   7.2500    Mr      15.0                 1         0\n",
              "1       1  female        C  71.2833   Mrs      30.0                 1         1\n",
              "2       3  female        S   7.9250  Miss      15.0                 0         1\n",
              "3       1  female        S  53.1000   Mrs      30.0                 1         1\n",
              "4       3    male        S   8.0500    Mr      30.0                 0         0"
            ]
          },
          "metadata": {
            "tags": []
          },
          "execution_count": 30
        }
      ]
    },
    {
      "cell_type": "code",
      "metadata": {
        "id": "JT1iMv8CzXXD",
        "colab_type": "code",
        "outputId": "10f455c9-1313-48b9-e928-6c89fcf4b02b",
        "colab": {
          "base_uri": "https://localhost:8080/",
          "height": 204
        }
      },
      "source": [
        "test_set.head()"
      ],
      "execution_count": 31,
      "outputs": [
        {
          "output_type": "execute_result",
          "data": {
            "text/html": [
              "<div>\n",
              "<style scoped>\n",
              "    .dataframe tbody tr th:only-of-type {\n",
              "        vertical-align: middle;\n",
              "    }\n",
              "\n",
              "    .dataframe tbody tr th {\n",
              "        vertical-align: top;\n",
              "    }\n",
              "\n",
              "    .dataframe thead th {\n",
              "        text-align: right;\n",
              "    }\n",
              "</style>\n",
              "<table border=\"1\" class=\"dataframe\">\n",
              "  <thead>\n",
              "    <tr style=\"text-align: right;\">\n",
              "      <th></th>\n",
              "      <th>Pclass</th>\n",
              "      <th>Sex</th>\n",
              "      <th>Embarked</th>\n",
              "      <th>Fare</th>\n",
              "      <th>Title</th>\n",
              "      <th>AgeGroup</th>\n",
              "      <th>RelativesOnboard</th>\n",
              "    </tr>\n",
              "  </thead>\n",
              "  <tbody>\n",
              "    <tr>\n",
              "      <th>0</th>\n",
              "      <td>3</td>\n",
              "      <td>male</td>\n",
              "      <td>Q</td>\n",
              "      <td>7.8292</td>\n",
              "      <td>Mr</td>\n",
              "      <td>30.0</td>\n",
              "      <td>0</td>\n",
              "    </tr>\n",
              "    <tr>\n",
              "      <th>1</th>\n",
              "      <td>3</td>\n",
              "      <td>female</td>\n",
              "      <td>S</td>\n",
              "      <td>7.0000</td>\n",
              "      <td>Mrs</td>\n",
              "      <td>45.0</td>\n",
              "      <td>1</td>\n",
              "    </tr>\n",
              "    <tr>\n",
              "      <th>2</th>\n",
              "      <td>2</td>\n",
              "      <td>male</td>\n",
              "      <td>Q</td>\n",
              "      <td>9.6875</td>\n",
              "      <td>Mr</td>\n",
              "      <td>60.0</td>\n",
              "      <td>0</td>\n",
              "    </tr>\n",
              "    <tr>\n",
              "      <th>3</th>\n",
              "      <td>3</td>\n",
              "      <td>male</td>\n",
              "      <td>S</td>\n",
              "      <td>8.6625</td>\n",
              "      <td>Mr</td>\n",
              "      <td>15.0</td>\n",
              "      <td>0</td>\n",
              "    </tr>\n",
              "    <tr>\n",
              "      <th>4</th>\n",
              "      <td>3</td>\n",
              "      <td>female</td>\n",
              "      <td>S</td>\n",
              "      <td>12.2875</td>\n",
              "      <td>Mrs</td>\n",
              "      <td>15.0</td>\n",
              "      <td>2</td>\n",
              "    </tr>\n",
              "  </tbody>\n",
              "</table>\n",
              "</div>"
            ],
            "text/plain": [
              "   Pclass     Sex Embarked     Fare Title  AgeGroup  RelativesOnboard\n",
              "0       3    male        Q   7.8292    Mr      30.0                 0\n",
              "1       3  female        S   7.0000   Mrs      45.0                 1\n",
              "2       2    male        Q   9.6875    Mr      60.0                 0\n",
              "3       3    male        S   8.6625    Mr      15.0                 0\n",
              "4       3  female        S  12.2875   Mrs      15.0                 2"
            ]
          },
          "metadata": {
            "tags": []
          },
          "execution_count": 31
        }
      ]
    },
    {
      "cell_type": "markdown",
      "metadata": {
        "id": "WbgmFWSBz4_I",
        "colab_type": "text"
      },
      "source": [
        "# Data Preprocessing\n",
        "## Dealing with missing values and categorical values"
      ]
    },
    {
      "cell_type": "code",
      "metadata": {
        "id": "3vhjf3w7HVBG",
        "colab_type": "code",
        "colab": {}
      },
      "source": [
        "class CategoricalImputer(BaseEstimator, TransformerMixin):\n",
        "    def fit(self, X, y=None):\n",
        "        self.most_frequent_ = pd.Series([X[c].value_counts().index[0] for c in X],\n",
        "                                        index=X.columns)\n",
        "        return self\n",
        "    def transform(self, X, y=None):\n",
        "        return X.fillna(self.most_frequent_)"
      ],
      "execution_count": 0,
      "outputs": []
    },
    {
      "cell_type": "code",
      "metadata": {
        "id": "ne9-AHPzzmB_",
        "colab_type": "code",
        "colab": {}
      },
      "source": [
        "num_pipeline = Pipeline([('imputer', SimpleImputer(strategy=\"median\"))])\n",
        "cat_pipeline = Pipeline([(\"imputer\", CategoricalImputer()), (\"cat_encoder\", OneHotEncoder(sparse=False))])"
      ],
      "execution_count": 0,
      "outputs": []
    },
    {
      "cell_type": "code",
      "metadata": {
        "id": "Qm-mX7ztEACK",
        "colab_type": "code",
        "colab": {}
      },
      "source": [
        "num_attribs = ['Fare']\n",
        "cat_attribs = ['Pclass', 'Sex', 'Embarked', 'Title', 'AgeGroup', 'RelativesOnboard']\n",
        "\n",
        "full_pipeline = ColumnTransformer([\n",
        "        (\"num\", num_pipeline, num_attribs),\n",
        "        (\"cat\", cat_pipeline, cat_attribs),\n",
        "    ])\n"
      ],
      "execution_count": 0,
      "outputs": []
    },
    {
      "cell_type": "markdown",
      "metadata": {
        "id": "GqBb3N3P0-O2",
        "colab_type": "text"
      },
      "source": [
        "## Separate the Features and Label"
      ]
    },
    {
      "cell_type": "code",
      "metadata": {
        "id": "dA1i7g0bJUjk",
        "colab_type": "code",
        "colab": {}
      },
      "source": [
        "X_train = full_pipeline.fit_transform(train_set)\n",
        "y_train = train_set[\"Survived\"]"
      ],
      "execution_count": 0,
      "outputs": []
    },
    {
      "cell_type": "markdown",
      "metadata": {
        "id": "cajiEMylKAxh",
        "colab_type": "text"
      },
      "source": [
        "# Select and train a model\n",
        "## `Before directly training on the test set, first train and evaluate on the training set. Also, try different ML algorithms and choose which fits best on the data.`"
      ]
    },
    {
      "cell_type": "code",
      "metadata": {
        "id": "ByBN0JxAVxwf",
        "colab_type": "code",
        "colab": {}
      },
      "source": [
        "classifiers = [\n",
        "    KNeighborsClassifier(3),\n",
        "    SVC(probability=True, gamma=\"auto\"),\n",
        "    DecisionTreeClassifier(),\n",
        "    RandomForestClassifier(),\n",
        "\t  AdaBoostClassifier(),\n",
        "    GradientBoostingClassifier(),\n",
        "    GaussianNB(),\n",
        "    LogisticRegression()]"
      ],
      "execution_count": 0,
      "outputs": []
    },
    {
      "cell_type": "code",
      "metadata": {
        "id": "LMAZhOZGWBez",
        "colab_type": "code",
        "colab": {}
      },
      "source": [
        "classifiers_Kscores = []\n",
        "classifiers_accuracy = []\n",
        "for clf in classifiers:\n",
        "  clf_scores = cross_val_score(clf, X_train, y_train, cv=10)\n",
        "  classifiers_Kscores.append(clf_scores)\n",
        "  model_name = type(clf).__name__\n",
        "  classifiers_accuracy.append(model_name+': '+str(format(clf_scores.mean()*100,'.2f')))"
      ],
      "execution_count": 0,
      "outputs": []
    },
    {
      "cell_type": "code",
      "metadata": {
        "id": "pc5zyQxhZ8El",
        "colab_type": "code",
        "outputId": "86947197-9b74-4452-d8e8-58bf0e55cc37",
        "colab": {
          "base_uri": "https://localhost:8080/",
          "height": 570
        }
      },
      "source": [
        "plt.figure(figsize=(10, 6))\n",
        "plt.boxplot(classifiers_Kscores, labels=(\"KNN\",\"SVC\",\"Trees\",\"Forest\",\"Ada\",\"Gradient\",\"NB\",\"Logistic\"))\n",
        "plt.ylabel(\"Accuracy\", fontsize=14)\n",
        "plt.show()\n",
        "\n",
        "print(\"\\n\\nClassifiers Accuracy:\")\n",
        "classifiers_accuracy\n"
      ],
      "execution_count": 38,
      "outputs": [
        {
          "output_type": "display_data",
          "data": {
            "image/png": "[encoded data removed]",
            "text/plain": [
              "<Figure size 720x432 with 1 Axes>"
            ]
          },
          "metadata": {
            "tags": []
          }
        },
        {
          "output_type": "stream",
          "text": [
            "\n",
            "\n",
            "Classifiers Accuracy:\n"
          ],
          "name": "stdout"
        },
        {
          "output_type": "execute_result",
          "data": {
            "text/plain": [
              "['KNeighborsClassifier: 77.90',\n",
              " 'SVC: 79.58',\n",
              " 'DecisionTreeClassifier: 79.80',\n",
              " 'RandomForestClassifier: 80.93',\n",
              " 'AdaBoostClassifier: 82.39',\n",
              " 'GradientBoostingClassifier: 83.28',\n",
              " 'GaussianNB: 75.10',\n",
              " 'LogisticRegression: 82.38']"
            ]
          },
          "metadata": {
            "tags": []
          },
          "execution_count": 38
        }
      ]
    },
    {
      "cell_type": "markdown",
      "metadata": {
        "id": "RmdBjp7U4zQJ",
        "colab_type": "text"
      },
      "source": [
        "## Accuracy Score is generally not the preferred performance measure for classifiers, especially when you are dealing with skewed datasets (i.e., when some classes are much more frequent than others).\n",
        "## We will also calculate the F1_score for each classifier, which is the weighted average of the precision and recall.\n",
        "## F1 = 2 * (precision * recall) / (precision + recall)"
      ]
    },
    {
      "cell_type": "code",
      "metadata": {
        "id": "0du1DMV7-Qh8",
        "colab_type": "code",
        "colab": {}
      },
      "source": [
        "splits = StratifiedShuffleSplit(n_splits=1, test_size=0.4, random_state=42)\n",
        "\n",
        "for train_index, test_index in splits.split(X_train, y_train):\n",
        "  X_train1, X_test1 = X_train[train_index], X_train[test_index]\n",
        "  y_train1, y_test1 = y_train[train_index], y_train[test_index]"
      ],
      "execution_count": 0,
      "outputs": []
    },
    {
      "cell_type": "code",
      "metadata": {
        "id": "Md6fsI5MMA9_",
        "colab_type": "code",
        "colab": {}
      },
      "source": [
        "\n",
        "f1_scores = []\n",
        "for clf in classifiers:\n",
        "  clf.fit(X_train1, y_train1)\n",
        "  pred = clf.predict(X_test1)\n",
        "  model_name = type(clf).__name__\n",
        "  f1_scores.append((model_name+': '+str(format(f1_score(y_test1, pred)*100,'.2f'))))"
      ],
      "execution_count": 0,
      "outputs": []
    },
    {
      "cell_type": "code",
      "metadata": {
        "id": "EEsAO00JNRCv",
        "colab_type": "code",
        "outputId": "7b9a0202-aabb-4c8f-bb4c-6da842760476",
        "colab": {
          "base_uri": "https://localhost:8080/",
          "height": 170
        }
      },
      "source": [
        "print(\"F1 Scores:\")\n",
        "f1_scores"
      ],
      "execution_count": 41,
      "outputs": [
        {
          "output_type": "stream",
          "text": [
            "F1 Scores:\n"
          ],
          "name": "stdout"
        },
        {
          "output_type": "execute_result",
          "data": {
            "text/plain": [
              "['KNeighborsClassifier: 66.16',\n",
              " 'SVC: 74.63',\n",
              " 'DecisionTreeClassifier: 71.16',\n",
              " 'RandomForestClassifier: 70.45',\n",
              " 'AdaBoostClassifier: 77.15',\n",
              " 'GradientBoostingClassifier: 74.51',\n",
              " 'GaussianNB: 72.16',\n",
              " 'LogisticRegression: 77.27']"
            ]
          },
          "metadata": {
            "tags": []
          },
          "execution_count": 41
        }
      ]
    },
    {
      "cell_type": "markdown",
      "metadata": {
        "id": "BdkneTOYOhH6",
        "colab_type": "text"
      },
      "source": [
        "# Evaluate the model on the Test Set"
      ]
    },
    {
      "cell_type": "code",
      "metadata": {
        "id": "pXvoKBWpfO-U",
        "colab_type": "code",
        "colab": {}
      },
      "source": [
        "X_test = full_pipeline.fit_transform(test_set)"
      ],
      "execution_count": 0,
      "outputs": []
    },
    {
      "cell_type": "code",
      "metadata": {
        "id": "RrB7I670b1bD",
        "colab_type": "code",
        "colab": {}
      },
      "source": [
        "ada_clf = AdaBoostClassifier()\n",
        "ada_clf.fit(X_train,y_train)\n",
        "y_pred = ada_clf.predict(X_test)"
      ],
      "execution_count": 0,
      "outputs": []
    },
    {
      "cell_type": "code",
      "metadata": {
        "id": "NVEUoMmQ9NVi",
        "colab_type": "code",
        "colab": {}
      },
      "source": [
        "passengerID =np.array(titanic_testSet[\"PassengerId\"]).astype(int)\n",
        "titanicSurvival_predictions = pd.DataFrame(y_pred, passengerID, columns = [\"Survived\"])\n",
        "\n",
        "titanicSurvival_predictions.to_csv(\"/content/drive/My Drive/Titanic_Survival_Predictions_ada.csv\", index_label = [\"PassengerId\"])"
      ],
      "execution_count": 0,
      "outputs": []
    }
  ]
}